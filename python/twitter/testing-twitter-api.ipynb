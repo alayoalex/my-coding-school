{
 "cells": [
  {
   "cell_type": "code",
   "execution_count": 4,
   "metadata": {},
   "outputs": [],
   "source": [
    "import twitter"
   ]
  },
  {
   "cell_type": "code",
   "execution_count": 5,
   "metadata": {},
   "outputs": [],
   "source": [
    "api = twitter.Api(consumer_key='yq4FLUzRXCyRU6iJaysf2BdsB',\n",
    "                      consumer_secret='UeojQFvB9C7EJUQoLUYHWkyvg42diPHUK0t5v4xAQ7imTTusk0',\n",
    "                      access_token_key='1118339159100403713-LajXmXFzyR5uAeMjT679cKVMbWY5Ly',\n",
    "                      access_token_secret='PmTv4SpnBXZyyg74sK7fBQmXPTzL50BvwTefrsuNU2zLb')"
   ]
  },
  {
   "cell_type": "code",
   "execution_count": 6,
   "metadata": {
    "tags": []
   },
   "outputs": [
    {
     "output_type": "stream",
     "name": "stdout",
     "text": "{\"created_at\": \"Wed Apr 17 02:23:28 +0000 2019\", \"default_profile\": true, \"description\": \"Software Engineer from Cuba. Son of God. Following Jesus since 2009.\", \"favourites_count\": 83, \"followers_count\": 33, \"friends_count\": 246, \"id\": 1118339159100403713, \"id_str\": \"1118339159100403713\", \"location\": \"La Habana. Cuba.\", \"name\": \"Alexei Alayo Rond\\u00f3n\", \"profile_background_color\": \"F5F8FA\", \"profile_image_url\": \"http://pbs.twimg.com/profile_images/1118339374544977926/mryhTyFs_normal.jpg\", \"profile_image_url_https\": \"https://pbs.twimg.com/profile_images/1118339374544977926/mryhTyFs_normal.jpg\", \"profile_link_color\": \"1DA1F2\", \"profile_sidebar_border_color\": \"C0DEED\", \"profile_sidebar_fill_color\": \"DDEEF6\", \"profile_text_color\": \"333333\", \"profile_use_background_image\": true, \"screen_name\": \"AlayoRondon\", \"status\": {\"created_at\": \"Fri Apr 03 16:18:46 +0000 2020\", \"id\": 1246109901367267329, \"id_str\": \"1246109901367267329\", \"in_reply_to_screen_name\": \"eggheadio\", \"in_reply_to_status_id\": 1245826385966325760, \"in_reply_to_user_id\": 921398240, \"lang\": \"en\", \"source\": \"<a href=\\\"https://mobile.twitter.com\\\" rel=\\\"nofollow\\\">Twitter Web App</a>\", \"text\": \"@eggheadio It just gets started. https://t.co/WitPmF9rJS\"}, \"statuses_count\": 48, \"url\": \"https://t.co/YsQYOxJ5uE\"}\n"
    }
   ],
   "source": [
    "print(api.VerifyCredentials())"
   ]
  },
  {
   "cell_type": "code",
   "execution_count": 11,
   "metadata": {
    "tags": []
   },
   "outputs": [
    {
     "output_type": "stream",
     "name": "stdout",
     "text": "['@eggheadio It just gets started. https://t.co/WitPmF9rJS', 'RT @kobebryant: Continuing to move the game forward @KingJames. Much respect my brother 💪🏾 #33644', 'Thanks to @johnpriceonline for making this photo available freely on @unsplash 🎁 https://t.co/jVilMXgOi4', \"RT @fermatslibrary: Here's an example of a problem from the first International Mathematics Olympiad (IMO) whose solution is accessible to…\", 'RT @fermatslibrary: The Internet came to life 50 years ago during the Cold War, when government agencies were worried about maintaining com…', 'RT @fermatslibrary: Start with 82 and go backwards to 1\\n\\n8281807978777675747372717069686 7666564636261605958575655545352 515049484746454443…', 'RT @mlbcuba: Podrías ganarte una de estas gorras con solo un RETWEET. 🇨🇺👏\\n#MLBCuba #HispanicHeritageMonth https://t.co/HOHw6EFedf', 'RT @mlbcuba: ¿Cuánto deseas una de estas hermosas gorras? 🙌🇨🇺\\n\\nCon un RETWEET podría ser tuya, participa. #MLBCuba #HispanicHeritageMonth h…', 'She is so grateful https://t.co/c1HPZvhQVF', '@armandojose_dm El resultado de Silva también es destacadísimo, el nivel está altísimo y se mantuvo en la elite.', 'RT @armandojose_dm: Cae Idalis Ortiz (+78 Kg) #Cuba 🇨🇺 en la final #JudoWorlds2019 🇯🇵 ante la fenómeno local de solo 19 años, Akira Sone. F…', 'RT @insidethegames: Top seed Idalys Ortiz sluggish but into over-78kg quarter-finals #JudoWorlds https://t.co/998gLlMIUf', '@beisbolplaycom Selfish.', 'RT @FIVBVolleyball: It’s not every day you get a SOLO MONSTER BLOCK!\\nCourtesy by Germany’s 🇩🇪 Christian Fromm. 😉\\nWunderbar!\\n\\nWatch all #VNL…', \"RT @FIVBVolleyball: This bump set though.\\n\\nDon't forget that you can watch all #Volleyball Nations League Matches on: https://t.co/bQrjtwK8…\", '#judoworlds Iván Felipe pierde y es enviado a repechage. Ninguno de los cuatro sembrado, es decir, los cuatro prime… https://t.co/ToHFQBdMJj', '#judoworlds Iván Felipe Silva lost and is sent it to repechage.', '@armandojose_dm Guantanamera.', 'Silva ganó su combate por ippon. #JudoWorlds , #JudoWorlds2019', '@armandojose_dm Si, dentro de un rato es el turno de Silva.']\n"
    }
   ],
   "source": [
    "statuses = api.GetUserTimeline(screen_name='AlayoRondon')\n",
    "print([s.text for s in statuses], end='\\n')"
   ]
  },
  {
   "cell_type": "code",
   "execution_count": 1,
   "metadata": {},
   "outputs": [
    {
     "output_type": "error",
     "ename": "NameError",
     "evalue": "name 'twitter_api' is not defined",
     "traceback": [
      "\u001b[0;31m---------------------------------------------------------------------------\u001b[0m",
      "\u001b[0;31mNameError\u001b[0m                                 Traceback (most recent call last)",
      "\u001b[0;32m<ipython-input-1-3a92ec4522c9>\u001b[0m in \u001b[0;36m<module>\u001b[0;34m\u001b[0m\n\u001b[1;32m     10\u001b[0m \u001b[0;31m# to the URL itself as a special case keyword argument.\u001b[0m\u001b[0;34m\u001b[0m\u001b[0;34m\u001b[0m\u001b[0;34m\u001b[0m\u001b[0m\n\u001b[1;32m     11\u001b[0m \u001b[0;34m\u001b[0m\u001b[0m\n\u001b[0;32m---> 12\u001b[0;31m \u001b[0mworld_trends\u001b[0m \u001b[0;34m=\u001b[0m \u001b[0mtwitter_api\u001b[0m\u001b[0;34m.\u001b[0m\u001b[0mtrends\u001b[0m\u001b[0;34m.\u001b[0m\u001b[0mplace\u001b[0m\u001b[0;34m(\u001b[0m\u001b[0m_id\u001b[0m\u001b[0;34m=\u001b[0m\u001b[0mWORLD_WOE_ID\u001b[0m\u001b[0;34m)\u001b[0m\u001b[0;34m\u001b[0m\u001b[0;34m\u001b[0m\u001b[0m\n\u001b[0m\u001b[1;32m     13\u001b[0m \u001b[0mus_trends\u001b[0m \u001b[0;34m=\u001b[0m \u001b[0mtwitter_api\u001b[0m\u001b[0;34m.\u001b[0m\u001b[0mtrends\u001b[0m\u001b[0;34m.\u001b[0m\u001b[0mplace\u001b[0m\u001b[0;34m(\u001b[0m\u001b[0m_id\u001b[0m\u001b[0;34m=\u001b[0m\u001b[0mUS_WOE_ID\u001b[0m\u001b[0;34m)\u001b[0m\u001b[0;34m\u001b[0m\u001b[0;34m\u001b[0m\u001b[0m\n\u001b[1;32m     14\u001b[0m \u001b[0;34m\u001b[0m\u001b[0m\n",
      "\u001b[0;31mNameError\u001b[0m: name 'twitter_api' is not defined"
     ]
    }
   ],
   "source": [
    "# The Yahoo! Where On Earth ID for the entire world is 1.\n",
    "# See https://dev.twitter.com/docs/api/1.1/get/trends/place and\n",
    "# http://developer.yahoo.com/geo/geoplanet/\n",
    "\n",
    "WORLD_WOE_ID = 1\n",
    "US_WOE_ID = 23424977\n",
    "\n",
    "# Prefix ID with the underscore for query string parameterization.\n",
    "# Without the underscore, the twitter package appends the ID value\n",
    "# to the URL itself as a special case keyword argument.\n",
    "\n",
    "world_trends = twitter_api.trends.place(_id=WORLD_WOE_ID)\n",
    "us_trends = twitter_api.trends.place(_id=US_WOE_ID)\n",
    "\n",
    "print(world_trends)\n",
    "print()\n",
    "print(us_trends)"
   ]
  },
  {
   "cell_type": "code",
   "execution_count": null,
   "metadata": {},
   "outputs": [],
   "source": []
  }
 ],
 "metadata": {
  "language_info": {
   "codemirror_mode": {
    "name": "ipython",
    "version": 3
   },
   "file_extension": ".py",
   "mimetype": "text/x-python",
   "name": "python",
   "nbconvert_exporter": "python",
   "pygments_lexer": "ipython3",
   "version": "3.7.6-final"
  },
  "orig_nbformat": 2,
  "kernelspec": {
   "name": "python37664bitbaseconda6f9f3c4754f34a34b09f3cf0b9481c22",
   "display_name": "Python 3.7.6 64-bit ('base': conda)"
  }
 },
 "nbformat": 4,
 "nbformat_minor": 2
}